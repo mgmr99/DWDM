{
 "cells": [
  {
   "cell_type": "code",
   "execution_count": 1,
   "id": "ff51eac0",
   "metadata": {},
   "outputs": [
    {
     "name": "stdout",
     "output_type": "stream",
     "text": [
      "Labels:\n",
      "[0 0 1 0 1 1]\n"
     ]
    }
   ],
   "source": [
    "from sklearn.cluster import AgglomerativeClustering\n",
    "import numpy as np\n",
    "\n",
    "# Given data points\n",
    "data = np.array([[2,10], [2,5], [8,4], [5,8], [7,5], [6,4]])\n",
    "\n",
    "# Initialize AgglomerativeClustering with 2 clusters\n",
    "agg_clustering = AgglomerativeClustering(n_clusters=2)\n",
    "\n",
    "# Fit AgglomerativeClustering to data\n",
    "agg_clustering.fit(data)\n",
    "\n",
    "# Get labels\n",
    "labels = agg_clustering.labels_\n",
    "\n",
    "print(\"Labels:\")\n",
    "print(labels)\n"
   ]
  },
  {
   "cell_type": "code",
   "execution_count": null,
   "id": "dc2d8e60",
   "metadata": {},
   "outputs": [],
   "source": []
  }
 ],
 "metadata": {
  "kernelspec": {
   "display_name": "Python 3 (ipykernel)",
   "language": "python",
   "name": "python3"
  },
  "language_info": {
   "codemirror_mode": {
    "name": "ipython",
    "version": 3
   },
   "file_extension": ".py",
   "mimetype": "text/x-python",
   "name": "python",
   "nbconvert_exporter": "python",
   "pygments_lexer": "ipython3",
   "version": "3.12.1"
  }
 },
 "nbformat": 4,
 "nbformat_minor": 5
}
