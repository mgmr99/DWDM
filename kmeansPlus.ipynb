{
 "cells": [
  {
   "cell_type": "code",
   "execution_count": 1,
   "id": "3de96018",
   "metadata": {},
   "outputs": [
    {
     "name": "stderr",
     "output_type": "stream",
     "text": [
      "c:\\Python312\\Lib\\site-packages\\sklearn\\cluster\\_kmeans.py:1416: FutureWarning: The default value of `n_init` will change from 10 to 'auto' in 1.4. Set the value of `n_init` explicitly to suppress the warning\n",
      "  super()._check_params_vs_input(X, default_n_init=10)\n"
     ]
    },
    {
     "name": "stdout",
     "output_type": "stream",
     "text": [
      "Cluster Centers:\n",
      "[[ 48.44111571  56.97694944]\n",
      " [150.79117701 149.12273894]\n",
      " [ 47.66746297 156.39938553]\n",
      " [148.9981524   46.97503861]]\n"
     ]
    }
   ],
   "source": [
    "from sklearn.cluster import KMeans\n",
    "import numpy as np\n",
    "\n",
    "# Generate 1000 2D data points in the range 0-200 randomly\n",
    "data = np.random.rand(1000, 2) * 200\n",
    "\n",
    "# Initialize KMeans with 4 clusters using k-means++ initialization\n",
    "kmeans = KMeans(n_clusters=4, init='k-means++')\n",
    "\n",
    "# Fit KMeans to data\n",
    "kmeans.fit(data)\n",
    "\n",
    "# Get cluster centers\n",
    "centroids = kmeans.cluster_centers_\n",
    "\n",
    "# Get labels\n",
    "labels = kmeans.labels_\n",
    "\n",
    "print(\"Cluster Centers:\")\n",
    "print(centroids)\n"
   ]
  },
  {
   "cell_type": "code",
   "execution_count": null,
   "id": "061e061e",
   "metadata": {},
   "outputs": [],
   "source": []
  }
 ],
 "metadata": {
  "kernelspec": {
   "display_name": "Python 3 (ipykernel)",
   "language": "python",
   "name": "python3"
  },
  "language_info": {
   "codemirror_mode": {
    "name": "ipython",
    "version": 3
   },
   "file_extension": ".py",
   "mimetype": "text/x-python",
   "name": "python",
   "nbconvert_exporter": "python",
   "pygments_lexer": "ipython3",
   "version": "3.12.1"
  }
 },
 "nbformat": 4,
 "nbformat_minor": 5
}
